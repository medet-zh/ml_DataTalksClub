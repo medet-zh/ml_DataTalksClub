{
 "cells": [
  {
   "cell_type": "code",
   "execution_count": 16,
   "id": "6335cac6-771c-4e39-b4e1-6c8b8cad0270",
   "metadata": {},
   "outputs": [],
   "source": [
    "import numpy as np\n",
    "import pandas as pd\n",
    "from matplotlib import pyplot as plt\n",
    "import seaborn as sns\n",
    "%matplotlib inline"
   ]
  },
  {
   "cell_type": "markdown",
   "id": "e53f10b8-5740-46f9-879c-6862584c2117",
   "metadata": {},
   "source": [
    "# For this homework is used laptops dataset"
   ]
  },
  {
   "cell_type": "code",
   "execution_count": 6,
   "id": "35a830ec-f159-4756-aaa5-31f7caead2f1",
   "metadata": {},
   "outputs": [],
   "source": [
    "df=pd.read_csv('./data/2024_laptops.csv')"
   ]
  },
  {
   "cell_type": "code",
   "execution_count": 7,
   "id": "5f2f851e-5cde-4332-94b0-c1d2a6a154d1",
   "metadata": {},
   "outputs": [
    {
     "data": {
      "text/html": [
       "<div>\n",
       "<style scoped>\n",
       "    .dataframe tbody tr th:only-of-type {\n",
       "        vertical-align: middle;\n",
       "    }\n",
       "\n",
       "    .dataframe tbody tr th {\n",
       "        vertical-align: top;\n",
       "    }\n",
       "\n",
       "    .dataframe thead th {\n",
       "        text-align: right;\n",
       "    }\n",
       "</style>\n",
       "<table border=\"1\" class=\"dataframe\">\n",
       "  <thead>\n",
       "    <tr style=\"text-align: right;\">\n",
       "      <th></th>\n",
       "      <th>Laptop</th>\n",
       "      <th>Status</th>\n",
       "      <th>Brand</th>\n",
       "      <th>Model</th>\n",
       "      <th>CPU</th>\n",
       "      <th>RAM</th>\n",
       "      <th>Storage</th>\n",
       "      <th>Storage type</th>\n",
       "      <th>GPU</th>\n",
       "      <th>Screen</th>\n",
       "      <th>Touch</th>\n",
       "      <th>Final Price</th>\n",
       "    </tr>\n",
       "  </thead>\n",
       "  <tbody>\n",
       "    <tr>\n",
       "      <th>0</th>\n",
       "      <td>ASUS ExpertBook B1 B1502CBA-EJ0436X Intel Core...</td>\n",
       "      <td>New</td>\n",
       "      <td>Asus</td>\n",
       "      <td>ExpertBook</td>\n",
       "      <td>Intel Core i5</td>\n",
       "      <td>8</td>\n",
       "      <td>512</td>\n",
       "      <td>SSD</td>\n",
       "      <td>NaN</td>\n",
       "      <td>15.6</td>\n",
       "      <td>No</td>\n",
       "      <td>1009.00</td>\n",
       "    </tr>\n",
       "    <tr>\n",
       "      <th>1</th>\n",
       "      <td>Alurin Go Start Intel Celeron N4020/8GB/256GB ...</td>\n",
       "      <td>New</td>\n",
       "      <td>Alurin</td>\n",
       "      <td>Go</td>\n",
       "      <td>Intel Celeron</td>\n",
       "      <td>8</td>\n",
       "      <td>256</td>\n",
       "      <td>SSD</td>\n",
       "      <td>NaN</td>\n",
       "      <td>15.6</td>\n",
       "      <td>No</td>\n",
       "      <td>299.00</td>\n",
       "    </tr>\n",
       "    <tr>\n",
       "      <th>2</th>\n",
       "      <td>ASUS ExpertBook B1 B1502CBA-EJ0424X Intel Core...</td>\n",
       "      <td>New</td>\n",
       "      <td>Asus</td>\n",
       "      <td>ExpertBook</td>\n",
       "      <td>Intel Core i3</td>\n",
       "      <td>8</td>\n",
       "      <td>256</td>\n",
       "      <td>SSD</td>\n",
       "      <td>NaN</td>\n",
       "      <td>15.6</td>\n",
       "      <td>No</td>\n",
       "      <td>789.00</td>\n",
       "    </tr>\n",
       "    <tr>\n",
       "      <th>3</th>\n",
       "      <td>MSI Katana GF66 12UC-082XES Intel Core i7-1270...</td>\n",
       "      <td>New</td>\n",
       "      <td>MSI</td>\n",
       "      <td>Katana</td>\n",
       "      <td>Intel Core i7</td>\n",
       "      <td>16</td>\n",
       "      <td>1000</td>\n",
       "      <td>SSD</td>\n",
       "      <td>RTX 3050</td>\n",
       "      <td>15.6</td>\n",
       "      <td>No</td>\n",
       "      <td>1199.00</td>\n",
       "    </tr>\n",
       "    <tr>\n",
       "      <th>4</th>\n",
       "      <td>HP 15S-FQ5085NS Intel Core i5-1235U/16GB/512GB...</td>\n",
       "      <td>New</td>\n",
       "      <td>HP</td>\n",
       "      <td>15S</td>\n",
       "      <td>Intel Core i5</td>\n",
       "      <td>16</td>\n",
       "      <td>512</td>\n",
       "      <td>SSD</td>\n",
       "      <td>NaN</td>\n",
       "      <td>15.6</td>\n",
       "      <td>No</td>\n",
       "      <td>669.01</td>\n",
       "    </tr>\n",
       "    <tr>\n",
       "      <th>...</th>\n",
       "      <td>...</td>\n",
       "      <td>...</td>\n",
       "      <td>...</td>\n",
       "      <td>...</td>\n",
       "      <td>...</td>\n",
       "      <td>...</td>\n",
       "      <td>...</td>\n",
       "      <td>...</td>\n",
       "      <td>...</td>\n",
       "      <td>...</td>\n",
       "      <td>...</td>\n",
       "      <td>...</td>\n",
       "    </tr>\n",
       "    <tr>\n",
       "      <th>2155</th>\n",
       "      <td>Razer Blade 17 FHD 360Hz Intel Core i7-11800H/...</td>\n",
       "      <td>Refurbished</td>\n",
       "      <td>Razer</td>\n",
       "      <td>Blade</td>\n",
       "      <td>Intel Core i7</td>\n",
       "      <td>16</td>\n",
       "      <td>1000</td>\n",
       "      <td>SSD</td>\n",
       "      <td>RTX 3060</td>\n",
       "      <td>17.3</td>\n",
       "      <td>No</td>\n",
       "      <td>2699.99</td>\n",
       "    </tr>\n",
       "    <tr>\n",
       "      <th>2156</th>\n",
       "      <td>Razer Blade 17 FHD 360Hz Intel Core i7-11800H/...</td>\n",
       "      <td>Refurbished</td>\n",
       "      <td>Razer</td>\n",
       "      <td>Blade</td>\n",
       "      <td>Intel Core i7</td>\n",
       "      <td>16</td>\n",
       "      <td>1000</td>\n",
       "      <td>SSD</td>\n",
       "      <td>RTX 3070</td>\n",
       "      <td>17.3</td>\n",
       "      <td>No</td>\n",
       "      <td>2899.99</td>\n",
       "    </tr>\n",
       "    <tr>\n",
       "      <th>2157</th>\n",
       "      <td>Razer Blade 17 FHD 360Hz Intel Core i7-11800H/...</td>\n",
       "      <td>Refurbished</td>\n",
       "      <td>Razer</td>\n",
       "      <td>Blade</td>\n",
       "      <td>Intel Core i7</td>\n",
       "      <td>32</td>\n",
       "      <td>1000</td>\n",
       "      <td>SSD</td>\n",
       "      <td>RTX 3080</td>\n",
       "      <td>17.3</td>\n",
       "      <td>No</td>\n",
       "      <td>3399.99</td>\n",
       "    </tr>\n",
       "    <tr>\n",
       "      <th>2158</th>\n",
       "      <td>Razer Book 13 Intel Evo Core i7-1165G7/16GB/1T...</td>\n",
       "      <td>Refurbished</td>\n",
       "      <td>Razer</td>\n",
       "      <td>Book</td>\n",
       "      <td>Intel Evo Core i7</td>\n",
       "      <td>16</td>\n",
       "      <td>1000</td>\n",
       "      <td>SSD</td>\n",
       "      <td>NaN</td>\n",
       "      <td>13.4</td>\n",
       "      <td>Yes</td>\n",
       "      <td>1899.99</td>\n",
       "    </tr>\n",
       "    <tr>\n",
       "      <th>2159</th>\n",
       "      <td>Razer Book FHD+ Intel Evo Core i7-1165G7/16GB/...</td>\n",
       "      <td>Refurbished</td>\n",
       "      <td>Razer</td>\n",
       "      <td>Book</td>\n",
       "      <td>Intel Evo Core i7</td>\n",
       "      <td>16</td>\n",
       "      <td>256</td>\n",
       "      <td>SSD</td>\n",
       "      <td>NaN</td>\n",
       "      <td>13.4</td>\n",
       "      <td>Yes</td>\n",
       "      <td>1699.99</td>\n",
       "    </tr>\n",
       "  </tbody>\n",
       "</table>\n",
       "<p>2160 rows × 12 columns</p>\n",
       "</div>"
      ],
      "text/plain": [
       "                                                 Laptop       Status   Brand  \\\n",
       "0     ASUS ExpertBook B1 B1502CBA-EJ0436X Intel Core...          New    Asus   \n",
       "1     Alurin Go Start Intel Celeron N4020/8GB/256GB ...          New  Alurin   \n",
       "2     ASUS ExpertBook B1 B1502CBA-EJ0424X Intel Core...          New    Asus   \n",
       "3     MSI Katana GF66 12UC-082XES Intel Core i7-1270...          New     MSI   \n",
       "4     HP 15S-FQ5085NS Intel Core i5-1235U/16GB/512GB...          New      HP   \n",
       "...                                                 ...          ...     ...   \n",
       "2155  Razer Blade 17 FHD 360Hz Intel Core i7-11800H/...  Refurbished   Razer   \n",
       "2156  Razer Blade 17 FHD 360Hz Intel Core i7-11800H/...  Refurbished   Razer   \n",
       "2157  Razer Blade 17 FHD 360Hz Intel Core i7-11800H/...  Refurbished   Razer   \n",
       "2158  Razer Book 13 Intel Evo Core i7-1165G7/16GB/1T...  Refurbished   Razer   \n",
       "2159  Razer Book FHD+ Intel Evo Core i7-1165G7/16GB/...  Refurbished   Razer   \n",
       "\n",
       "           Model                CPU  RAM  Storage Storage type       GPU  \\\n",
       "0     ExpertBook      Intel Core i5    8      512          SSD       NaN   \n",
       "1             Go      Intel Celeron    8      256          SSD       NaN   \n",
       "2     ExpertBook      Intel Core i3    8      256          SSD       NaN   \n",
       "3         Katana      Intel Core i7   16     1000          SSD  RTX 3050   \n",
       "4            15S      Intel Core i5   16      512          SSD       NaN   \n",
       "...          ...                ...  ...      ...          ...       ...   \n",
       "2155       Blade      Intel Core i7   16     1000          SSD  RTX 3060   \n",
       "2156       Blade      Intel Core i7   16     1000          SSD  RTX 3070   \n",
       "2157       Blade      Intel Core i7   32     1000          SSD  RTX 3080   \n",
       "2158        Book  Intel Evo Core i7   16     1000          SSD       NaN   \n",
       "2159        Book  Intel Evo Core i7   16      256          SSD       NaN   \n",
       "\n",
       "      Screen Touch  Final Price  \n",
       "0       15.6    No      1009.00  \n",
       "1       15.6    No       299.00  \n",
       "2       15.6    No       789.00  \n",
       "3       15.6    No      1199.00  \n",
       "4       15.6    No       669.01  \n",
       "...      ...   ...          ...  \n",
       "2155    17.3    No      2699.99  \n",
       "2156    17.3    No      2899.99  \n",
       "2157    17.3    No      3399.99  \n",
       "2158    13.4   Yes      1899.99  \n",
       "2159    13.4   Yes      1699.99  \n",
       "\n",
       "[2160 rows x 12 columns]"
      ]
     },
     "execution_count": 7,
     "metadata": {},
     "output_type": "execute_result"
    }
   ],
   "source": [
    "df"
   ]
  },
  {
   "cell_type": "code",
   "execution_count": 38,
   "id": "accf8000-0577-4049-a7b4-cb1e7b13e94a",
   "metadata": {},
   "outputs": [
    {
     "data": {
      "text/plain": [
       "Laptop           object\n",
       "Status           object\n",
       "Brand            object\n",
       "Model            object\n",
       "CPU              object\n",
       "RAM               int64\n",
       "Storage           int64\n",
       "Storage type     object\n",
       "GPU              object\n",
       "Screen          float64\n",
       "Touch            object\n",
       "Final Price     float64\n",
       "dtype: object"
      ]
     },
     "execution_count": 38,
     "metadata": {},
     "output_type": "execute_result"
    }
   ],
   "source": [
    "df.dtypes"
   ]
  },
  {
   "cell_type": "code",
   "execution_count": 48,
   "id": "9e4a4b88-5468-4a30-ad75-c0e12187f345",
   "metadata": {},
   "outputs": [
    {
     "data": {
      "text/html": [
       "<div>\n",
       "<style scoped>\n",
       "    .dataframe tbody tr th:only-of-type {\n",
       "        vertical-align: middle;\n",
       "    }\n",
       "\n",
       "    .dataframe tbody tr th {\n",
       "        vertical-align: top;\n",
       "    }\n",
       "\n",
       "    .dataframe thead th {\n",
       "        text-align: right;\n",
       "    }\n",
       "</style>\n",
       "<table border=\"1\" class=\"dataframe\">\n",
       "  <thead>\n",
       "    <tr style=\"text-align: right;\">\n",
       "      <th></th>\n",
       "      <th>RAM</th>\n",
       "      <th>Storage</th>\n",
       "      <th>Screen</th>\n",
       "      <th>Final Price</th>\n",
       "    </tr>\n",
       "  </thead>\n",
       "  <tbody>\n",
       "    <tr>\n",
       "      <th>count</th>\n",
       "      <td>2160.000000</td>\n",
       "      <td>2160.000000</td>\n",
       "      <td>2156.000000</td>\n",
       "      <td>2160.000000</td>\n",
       "    </tr>\n",
       "    <tr>\n",
       "      <th>mean</th>\n",
       "      <td>15.413889</td>\n",
       "      <td>596.294444</td>\n",
       "      <td>15.168112</td>\n",
       "      <td>1312.638509</td>\n",
       "    </tr>\n",
       "    <tr>\n",
       "      <th>std</th>\n",
       "      <td>9.867815</td>\n",
       "      <td>361.220506</td>\n",
       "      <td>1.203329</td>\n",
       "      <td>911.475417</td>\n",
       "    </tr>\n",
       "    <tr>\n",
       "      <th>min</th>\n",
       "      <td>4.000000</td>\n",
       "      <td>0.000000</td>\n",
       "      <td>10.100000</td>\n",
       "      <td>201.050000</td>\n",
       "    </tr>\n",
       "    <tr>\n",
       "      <th>25%</th>\n",
       "      <td>8.000000</td>\n",
       "      <td>256.000000</td>\n",
       "      <td>14.000000</td>\n",
       "      <td>661.082500</td>\n",
       "    </tr>\n",
       "    <tr>\n",
       "      <th>50%</th>\n",
       "      <td>16.000000</td>\n",
       "      <td>512.000000</td>\n",
       "      <td>15.600000</td>\n",
       "      <td>1031.945000</td>\n",
       "    </tr>\n",
       "    <tr>\n",
       "      <th>75%</th>\n",
       "      <td>16.000000</td>\n",
       "      <td>1000.000000</td>\n",
       "      <td>15.600000</td>\n",
       "      <td>1708.970000</td>\n",
       "    </tr>\n",
       "    <tr>\n",
       "      <th>max</th>\n",
       "      <td>128.000000</td>\n",
       "      <td>4000.000000</td>\n",
       "      <td>18.000000</td>\n",
       "      <td>7150.470000</td>\n",
       "    </tr>\n",
       "  </tbody>\n",
       "</table>\n",
       "</div>"
      ],
      "text/plain": [
       "               RAM      Storage       Screen  Final Price\n",
       "count  2160.000000  2160.000000  2156.000000  2160.000000\n",
       "mean     15.413889   596.294444    15.168112  1312.638509\n",
       "std       9.867815   361.220506     1.203329   911.475417\n",
       "min       4.000000     0.000000    10.100000   201.050000\n",
       "25%       8.000000   256.000000    14.000000   661.082500\n",
       "50%      16.000000   512.000000    15.600000  1031.945000\n",
       "75%      16.000000  1000.000000    15.600000  1708.970000\n",
       "max     128.000000  4000.000000    18.000000  7150.470000"
      ]
     },
     "execution_count": 48,
     "metadata": {},
     "output_type": "execute_result"
    }
   ],
   "source": [
    "df.describe()"
   ]
  },
  {
   "cell_type": "code",
   "execution_count": 50,
   "id": "f993eda8-5b55-44ac-8551-95d5598da022",
   "metadata": {},
   "outputs": [
    {
     "data": {
      "text/html": [
       "<div>\n",
       "<style scoped>\n",
       "    .dataframe tbody tr th:only-of-type {\n",
       "        vertical-align: middle;\n",
       "    }\n",
       "\n",
       "    .dataframe tbody tr th {\n",
       "        vertical-align: top;\n",
       "    }\n",
       "\n",
       "    .dataframe thead th {\n",
       "        text-align: right;\n",
       "    }\n",
       "</style>\n",
       "<table border=\"1\" class=\"dataframe\">\n",
       "  <thead>\n",
       "    <tr style=\"text-align: right;\">\n",
       "      <th></th>\n",
       "      <th>RAM</th>\n",
       "      <th>Storage</th>\n",
       "      <th>Screen</th>\n",
       "      <th>Final Price</th>\n",
       "    </tr>\n",
       "  </thead>\n",
       "  <tbody>\n",
       "    <tr>\n",
       "      <th>count</th>\n",
       "      <td>2160.00</td>\n",
       "      <td>2160.00</td>\n",
       "      <td>2156.00</td>\n",
       "      <td>2160.00</td>\n",
       "    </tr>\n",
       "    <tr>\n",
       "      <th>mean</th>\n",
       "      <td>15.41</td>\n",
       "      <td>596.29</td>\n",
       "      <td>15.17</td>\n",
       "      <td>1312.64</td>\n",
       "    </tr>\n",
       "    <tr>\n",
       "      <th>std</th>\n",
       "      <td>9.87</td>\n",
       "      <td>361.22</td>\n",
       "      <td>1.20</td>\n",
       "      <td>911.48</td>\n",
       "    </tr>\n",
       "    <tr>\n",
       "      <th>min</th>\n",
       "      <td>4.00</td>\n",
       "      <td>0.00</td>\n",
       "      <td>10.10</td>\n",
       "      <td>201.05</td>\n",
       "    </tr>\n",
       "    <tr>\n",
       "      <th>25%</th>\n",
       "      <td>8.00</td>\n",
       "      <td>256.00</td>\n",
       "      <td>14.00</td>\n",
       "      <td>661.08</td>\n",
       "    </tr>\n",
       "    <tr>\n",
       "      <th>50%</th>\n",
       "      <td>16.00</td>\n",
       "      <td>512.00</td>\n",
       "      <td>15.60</td>\n",
       "      <td>1031.95</td>\n",
       "    </tr>\n",
       "    <tr>\n",
       "      <th>75%</th>\n",
       "      <td>16.00</td>\n",
       "      <td>1000.00</td>\n",
       "      <td>15.60</td>\n",
       "      <td>1708.97</td>\n",
       "    </tr>\n",
       "    <tr>\n",
       "      <th>max</th>\n",
       "      <td>128.00</td>\n",
       "      <td>4000.00</td>\n",
       "      <td>18.00</td>\n",
       "      <td>7150.47</td>\n",
       "    </tr>\n",
       "  </tbody>\n",
       "</table>\n",
       "</div>"
      ],
      "text/plain": [
       "           RAM  Storage   Screen  Final Price\n",
       "count  2160.00  2160.00  2156.00      2160.00\n",
       "mean     15.41   596.29    15.17      1312.64\n",
       "std       9.87   361.22     1.20       911.48\n",
       "min       4.00     0.00    10.10       201.05\n",
       "25%       8.00   256.00    14.00       661.08\n",
       "50%      16.00   512.00    15.60      1031.95\n",
       "75%      16.00  1000.00    15.60      1708.97\n",
       "max     128.00  4000.00    18.00      7150.47"
      ]
     },
     "execution_count": 50,
     "metadata": {},
     "output_type": "execute_result"
    }
   ],
   "source": [
    "df.describe().round(2)"
   ]
  },
  {
   "cell_type": "markdown",
   "id": "40b55759-e9d0-45ef-9f99-cf3aa5871051",
   "metadata": {},
   "source": [
    "# Q1. Pandas version\n",
    "\n",
    "What's the version of Pandas that you installed?"
   ]
  },
  {
   "cell_type": "code",
   "execution_count": 39,
   "id": "a87e75d4-fef8-4f14-ad5e-e7a42a71c53a",
   "metadata": {},
   "outputs": [
    {
     "data": {
      "text/plain": [
       "'2.3.1'"
      ]
     },
     "execution_count": 39,
     "metadata": {},
     "output_type": "execute_result"
    }
   ],
   "source": [
    "pd.__version__"
   ]
  },
  {
   "cell_type": "code",
   "execution_count": 58,
   "id": "da3cbc3f-cde9-4617-aed6-4fbcc7a1adad",
   "metadata": {},
   "outputs": [
    {
     "data": {
      "text/plain": [
       "'2.3.1'"
      ]
     },
     "execution_count": 58,
     "metadata": {},
     "output_type": "execute_result"
    }
   ],
   "source": [
    "# Correct answer\n",
    "pd.__version__"
   ]
  },
  {
   "cell_type": "markdown",
   "id": "a3fe1263-58e5-47bb-bf92-96863d50c00d",
   "metadata": {},
   "source": [
    "# Q2. Records count\n",
    "\n",
    "How many records are in the dataset?\n",
    "\n",
    "- 12\n",
    "- 1000\n",
    "- 2160\n",
    "- 12160"
   ]
  },
  {
   "cell_type": "code",
   "execution_count": 9,
   "id": "24dea09f-3f25-4ffc-bfad-d85cf9fd335f",
   "metadata": {},
   "outputs": [
    {
     "data": {
      "text/plain": [
       "2160"
      ]
     },
     "execution_count": 9,
     "metadata": {},
     "output_type": "execute_result"
    }
   ],
   "source": [
    "len(df)"
   ]
  },
  {
   "cell_type": "code",
   "execution_count": 57,
   "id": "ac1620d5-8dc5-400c-a69f-b5cfc0bb5abe",
   "metadata": {},
   "outputs": [
    {
     "data": {
      "text/plain": [
       "2160"
      ]
     },
     "execution_count": 57,
     "metadata": {},
     "output_type": "execute_result"
    }
   ],
   "source": [
    "# Correct answer\n",
    "df.shape[0]"
   ]
  },
  {
   "cell_type": "markdown",
   "id": "58654358-12d0-47d3-822e-f314adac44e4",
   "metadata": {},
   "source": [
    "# Q3. Laptop brands\n",
    "\n",
    "How many laptop brands are presented in the dataset?\n",
    "\n",
    "- 12\n",
    "- 27\n",
    "- 28\n",
    "- 2160"
   ]
  },
  {
   "cell_type": "code",
   "execution_count": 14,
   "id": "52a56671-f8a9-42d6-b084-e8dac5370331",
   "metadata": {},
   "outputs": [
    {
     "data": {
      "text/plain": [
       "27"
      ]
     },
     "execution_count": 14,
     "metadata": {},
     "output_type": "execute_result"
    }
   ],
   "source": [
    "len(df.Brand.unique())"
   ]
  },
  {
   "cell_type": "code",
   "execution_count": 52,
   "id": "21daa9e1-07a8-4cc8-835a-d0e5cbaffd26",
   "metadata": {},
   "outputs": [
    {
     "data": {
      "text/plain": [
       "27"
      ]
     },
     "execution_count": 52,
     "metadata": {},
     "output_type": "execute_result"
    }
   ],
   "source": [
    "# Correct answer\n",
    "df.Brand.nunique()"
   ]
  },
  {
   "cell_type": "code",
   "execution_count": 44,
   "id": "7a1cf28e-c1f3-438c-9559-dfe95f49c2bf",
   "metadata": {},
   "outputs": [
    {
     "data": {
      "text/plain": [
       "Laptop          2160\n",
       "Status             2\n",
       "Brand             27\n",
       "Model            121\n",
       "CPU               28\n",
       "RAM                9\n",
       "Storage           12\n",
       "Storage type       2\n",
       "GPU               44\n",
       "Screen            29\n",
       "Touch              2\n",
       "Final Price     1440\n",
       "dtype: int64"
      ]
     },
     "execution_count": 44,
     "metadata": {},
     "output_type": "execute_result"
    }
   ],
   "source": [
    "df.nunique()"
   ]
  },
  {
   "cell_type": "markdown",
   "id": "4e5660aa-fd8e-4503-8fb1-c5ef0a8c182e",
   "metadata": {},
   "source": [
    "# Q4. Missing values\n",
    "\n",
    "How many columns in the dataset have missing values?\n",
    "\n",
    "- 0\n",
    "- 1\n",
    "- 2\n",
    "- 3"
   ]
  },
  {
   "cell_type": "code",
   "execution_count": 51,
   "id": "ff3047a1-b584-401f-b92e-2cfe73acad18",
   "metadata": {},
   "outputs": [
    {
     "data": {
      "text/plain": [
       "Laptop             0\n",
       "Status             0\n",
       "Brand              0\n",
       "Model              0\n",
       "CPU                0\n",
       "RAM                0\n",
       "Storage            0\n",
       "Storage type      42\n",
       "GPU             1371\n",
       "Screen             4\n",
       "Touch              0\n",
       "Final Price        0\n",
       "dtype: int64"
      ]
     },
     "execution_count": 51,
     "metadata": {},
     "output_type": "execute_result"
    }
   ],
   "source": [
    "df.isnull().sum()"
   ]
  },
  {
   "cell_type": "code",
   "execution_count": 56,
   "id": "64c64059-7eb2-4678-b6c4-d3126d7017e9",
   "metadata": {},
   "outputs": [
    {
     "data": {
      "text/plain": [
       "Laptop             0\n",
       "Status             0\n",
       "Brand              0\n",
       "Model              0\n",
       "CPU                0\n",
       "RAM                0\n",
       "Storage            0\n",
       "Storage type      42\n",
       "GPU             1371\n",
       "Screen             4\n",
       "Touch              0\n",
       "Final Price        0\n",
       "dtype: int64"
      ]
     },
     "execution_count": 56,
     "metadata": {},
     "output_type": "execute_result"
    }
   ],
   "source": [
    "# Correct answer\n",
    "df.isnull().sum()"
   ]
  },
  {
   "cell_type": "markdown",
   "id": "229c2ac6-71d7-465a-adcc-2c81891bbc27",
   "metadata": {},
   "source": [
    "# Q5. Maximum final price\n",
    "\n",
    "What's the maximum final price of Dell notebooks in the dataset?\n",
    "\n",
    "- 869\n",
    "- 3691\n",
    "- 3849\n",
    "- 3936"
   ]
  },
  {
   "cell_type": "code",
   "execution_count": 37,
   "id": "8733b349-ecf8-4510-86e7-e048b94e72c4",
   "metadata": {},
   "outputs": [
    {
     "data": {
      "text/plain": [
       "np.float64(3936.0)"
      ]
     },
     "execution_count": 37,
     "metadata": {},
     "output_type": "execute_result"
    }
   ],
   "source": [
    "df[df.Brand == 'Dell']['Final Price'].max()"
   ]
  },
  {
   "cell_type": "code",
   "execution_count": 54,
   "id": "df3ef52e-cf38-4ac6-a8a1-c43e142bfb06",
   "metadata": {},
   "outputs": [
    {
     "data": {
      "text/plain": [
       "np.float64(3936.0)"
      ]
     },
     "execution_count": 54,
     "metadata": {},
     "output_type": "execute_result"
    }
   ],
   "source": [
    "# Correct answer\n",
    "df[df.Brand == 'Dell']['Final Price'].max()"
   ]
  },
  {
   "cell_type": "code",
   "execution_count": 47,
   "id": "296890f3-0d63-459c-85a9-bbc08af86a41",
   "metadata": {},
   "outputs": [
    {
     "data": {
      "text/html": [
       "<div>\n",
       "<style scoped>\n",
       "    .dataframe tbody tr th:only-of-type {\n",
       "        vertical-align: middle;\n",
       "    }\n",
       "\n",
       "    .dataframe tbody tr th {\n",
       "        vertical-align: top;\n",
       "    }\n",
       "\n",
       "    .dataframe thead th {\n",
       "        text-align: right;\n",
       "    }\n",
       "</style>\n",
       "<table border=\"1\" class=\"dataframe\">\n",
       "  <thead>\n",
       "    <tr style=\"text-align: right;\">\n",
       "      <th></th>\n",
       "      <th>min</th>\n",
       "      <th>mean</th>\n",
       "      <th>max</th>\n",
       "    </tr>\n",
       "    <tr>\n",
       "      <th>Brand</th>\n",
       "      <th></th>\n",
       "      <th></th>\n",
       "      <th></th>\n",
       "    </tr>\n",
       "  </thead>\n",
       "  <tbody>\n",
       "    <tr>\n",
       "      <th>Acer</th>\n",
       "      <td>264.14</td>\n",
       "      <td>1001.285766</td>\n",
       "      <td>3691.00</td>\n",
       "    </tr>\n",
       "    <tr>\n",
       "      <th>Alurin</th>\n",
       "      <td>239.00</td>\n",
       "      <td>484.701379</td>\n",
       "      <td>869.00</td>\n",
       "    </tr>\n",
       "    <tr>\n",
       "      <th>Apple</th>\n",
       "      <td>299.00</td>\n",
       "      <td>1578.227672</td>\n",
       "      <td>3849.00</td>\n",
       "    </tr>\n",
       "    <tr>\n",
       "      <th>Asus</th>\n",
       "      <td>239.25</td>\n",
       "      <td>1269.380699</td>\n",
       "      <td>5758.14</td>\n",
       "    </tr>\n",
       "    <tr>\n",
       "      <th>Deep Gaming</th>\n",
       "      <td>1334.00</td>\n",
       "      <td>1505.377500</td>\n",
       "      <td>1639.01</td>\n",
       "    </tr>\n",
       "    <tr>\n",
       "      <th>Dell</th>\n",
       "      <td>379.00</td>\n",
       "      <td>1153.839881</td>\n",
       "      <td>3936.00</td>\n",
       "    </tr>\n",
       "    <tr>\n",
       "      <th>Denver</th>\n",
       "      <td>329.95</td>\n",
       "      <td>329.950000</td>\n",
       "      <td>329.95</td>\n",
       "    </tr>\n",
       "    <tr>\n",
       "      <th>Dynabook Toshiba</th>\n",
       "      <td>397.29</td>\n",
       "      <td>999.197895</td>\n",
       "      <td>1805.01</td>\n",
       "    </tr>\n",
       "    <tr>\n",
       "      <th>Gigabyte</th>\n",
       "      <td>799.00</td>\n",
       "      <td>1698.488958</td>\n",
       "      <td>3799.00</td>\n",
       "    </tr>\n",
       "    <tr>\n",
       "      <th>HP</th>\n",
       "      <td>210.14</td>\n",
       "      <td>952.628478</td>\n",
       "      <td>5368.77</td>\n",
       "    </tr>\n",
       "    <tr>\n",
       "      <th>Innjoo</th>\n",
       "      <td>251.40</td>\n",
       "      <td>347.888333</td>\n",
       "      <td>431.38</td>\n",
       "    </tr>\n",
       "    <tr>\n",
       "      <th>Jetwing</th>\n",
       "      <td>469.27</td>\n",
       "      <td>469.270000</td>\n",
       "      <td>469.27</td>\n",
       "    </tr>\n",
       "    <tr>\n",
       "      <th>LG</th>\n",
       "      <td>609.04</td>\n",
       "      <td>1730.028438</td>\n",
       "      <td>2399.00</td>\n",
       "    </tr>\n",
       "    <tr>\n",
       "      <th>Lenovo</th>\n",
       "      <td>239.00</td>\n",
       "      <td>1087.723880</td>\n",
       "      <td>5018.14</td>\n",
       "    </tr>\n",
       "    <tr>\n",
       "      <th>MSI</th>\n",
       "      <td>444.19</td>\n",
       "      <td>1913.451006</td>\n",
       "      <td>7150.47</td>\n",
       "    </tr>\n",
       "    <tr>\n",
       "      <th>Medion</th>\n",
       "      <td>246.89</td>\n",
       "      <td>905.331875</td>\n",
       "      <td>3799.00</td>\n",
       "    </tr>\n",
       "    <tr>\n",
       "      <th>Microsoft</th>\n",
       "      <td>599.01</td>\n",
       "      <td>1595.543247</td>\n",
       "      <td>3747.91</td>\n",
       "    </tr>\n",
       "    <tr>\n",
       "      <th>Millenium</th>\n",
       "      <td>1640.98</td>\n",
       "      <td>1976.845000</td>\n",
       "      <td>2312.71</td>\n",
       "    </tr>\n",
       "    <tr>\n",
       "      <th>PcCom</th>\n",
       "      <td>1049.00</td>\n",
       "      <td>1606.762917</td>\n",
       "      <td>1949.90</td>\n",
       "    </tr>\n",
       "    <tr>\n",
       "      <th>Primux</th>\n",
       "      <td>208.99</td>\n",
       "      <td>339.618750</td>\n",
       "      <td>599.41</td>\n",
       "    </tr>\n",
       "    <tr>\n",
       "      <th>Prixton</th>\n",
       "      <td>246.95</td>\n",
       "      <td>292.280000</td>\n",
       "      <td>329.95</td>\n",
       "    </tr>\n",
       "    <tr>\n",
       "      <th>Razer</th>\n",
       "      <td>1232.74</td>\n",
       "      <td>3265.701622</td>\n",
       "      <td>4999.01</td>\n",
       "    </tr>\n",
       "    <tr>\n",
       "      <th>Realme</th>\n",
       "      <td>999.00</td>\n",
       "      <td>999.000000</td>\n",
       "      <td>999.00</td>\n",
       "    </tr>\n",
       "    <tr>\n",
       "      <th>Samsung</th>\n",
       "      <td>365.90</td>\n",
       "      <td>1595.511364</td>\n",
       "      <td>3699.01</td>\n",
       "    </tr>\n",
       "    <tr>\n",
       "      <th>Thomson</th>\n",
       "      <td>201.05</td>\n",
       "      <td>316.860000</td>\n",
       "      <td>436.56</td>\n",
       "    </tr>\n",
       "    <tr>\n",
       "      <th>Toshiba</th>\n",
       "      <td>799.00</td>\n",
       "      <td>799.000000</td>\n",
       "      <td>799.00</td>\n",
       "    </tr>\n",
       "    <tr>\n",
       "      <th>Vant</th>\n",
       "      <td>632.00</td>\n",
       "      <td>1047.455455</td>\n",
       "      <td>1217.01</td>\n",
       "    </tr>\n",
       "  </tbody>\n",
       "</table>\n",
       "</div>"
      ],
      "text/plain": [
       "                      min         mean      max\n",
       "Brand                                          \n",
       "Acer               264.14  1001.285766  3691.00\n",
       "Alurin             239.00   484.701379   869.00\n",
       "Apple              299.00  1578.227672  3849.00\n",
       "Asus               239.25  1269.380699  5758.14\n",
       "Deep Gaming       1334.00  1505.377500  1639.01\n",
       "Dell               379.00  1153.839881  3936.00\n",
       "Denver             329.95   329.950000   329.95\n",
       "Dynabook Toshiba   397.29   999.197895  1805.01\n",
       "Gigabyte           799.00  1698.488958  3799.00\n",
       "HP                 210.14   952.628478  5368.77\n",
       "Innjoo             251.40   347.888333   431.38\n",
       "Jetwing            469.27   469.270000   469.27\n",
       "LG                 609.04  1730.028438  2399.00\n",
       "Lenovo             239.00  1087.723880  5018.14\n",
       "MSI                444.19  1913.451006  7150.47\n",
       "Medion             246.89   905.331875  3799.00\n",
       "Microsoft          599.01  1595.543247  3747.91\n",
       "Millenium         1640.98  1976.845000  2312.71\n",
       "PcCom             1049.00  1606.762917  1949.90\n",
       "Primux             208.99   339.618750   599.41\n",
       "Prixton            246.95   292.280000   329.95\n",
       "Razer             1232.74  3265.701622  4999.01\n",
       "Realme             999.00   999.000000   999.00\n",
       "Samsung            365.90  1595.511364  3699.01\n",
       "Thomson            201.05   316.860000   436.56\n",
       "Toshiba            799.00   799.000000   799.00\n",
       "Vant               632.00  1047.455455  1217.01"
      ]
     },
     "execution_count": 47,
     "metadata": {},
     "output_type": "execute_result"
    }
   ],
   "source": [
    "df.groupby('Brand')['Final Price'].agg(['min', 'mean', 'max'])"
   ]
  },
  {
   "cell_type": "markdown",
   "id": "cdae232d-a3ff-49d2-b266-5877a618e687",
   "metadata": {},
   "source": [
    "# Q6. Median value of Screen\n",
    "\n",
    "Find the median value of Screen column in the dataset.\n",
    "Next, calculate the most frequent value of the same Screen column.\n",
    "Use fillna method to fill the missing values in Screen column with the most frequent value from the previous step.\n",
    "Now, calculate the median value of Screen once again.\n",
    "Has it changed?\n",
    "\n",
    "Hint: refer to existing mode and median functions to complete the task.\n",
    "\n",
    "- Yes\n",
    "- No"
   ]
  },
  {
   "cell_type": "code",
   "execution_count": null,
   "id": "bf65cf83-6b20-48f4-b2d6-b24324a796f1",
   "metadata": {},
   "outputs": [],
   "source": []
  },
  {
   "cell_type": "markdown",
   "id": "ef3db24d-e28c-44d4-afc1-ecae7f9bc0d3",
   "metadata": {},
   "source": [
    "# Q7. Sum of weights\n",
    "\n",
    "Select all the \"Innjoo\" laptops from the dataset.\n",
    "Select only columns RAM, Storage, Screen.\n",
    "Get the underlying NumPy array. Let's call it X.\n",
    "Compute matrix-matrix multiplication between the transpose of X and X. To get the transpose, use X.T. Let's call the result XTX.\n",
    "Compute the inverse of XTX.\n",
    "Create an array y with values [1100, 1300, 800, 900, 1000, 1100].\n",
    "Multiply the inverse of XTX with the transpose of X, and then multiply the result by y. Call the result w.\n",
    "What's the sum of all the elements of the result?\n",
    "Note: You just implemented linear regression. We'll talk about it in the next lesson.\n",
    "\n",
    "- 0.43\n",
    "- 45.29\n",
    "- 45.58\n",
    "- 91.30"
   ]
  },
  {
   "cell_type": "code",
   "execution_count": null,
   "id": "f08952c7-f41e-42c3-9444-bdc750919637",
   "metadata": {},
   "outputs": [],
   "source": []
  }
 ],
 "metadata": {
  "kernelspec": {
   "display_name": "Python 3 (ipykernel)",
   "language": "python",
   "name": "python3"
  },
  "language_info": {
   "codemirror_mode": {
    "name": "ipython",
    "version": 3
   },
   "file_extension": ".py",
   "mimetype": "text/x-python",
   "name": "python",
   "nbconvert_exporter": "python",
   "pygments_lexer": "ipython3",
   "version": "3.12.1"
  }
 },
 "nbformat": 4,
 "nbformat_minor": 5
}
